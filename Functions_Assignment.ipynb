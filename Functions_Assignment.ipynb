{
  "nbformat": 4,
  "nbformat_minor": 0,
  "metadata": {
    "colab": {
      "provenance": []
    },
    "kernelspec": {
      "name": "python3",
      "display_name": "Python 3"
    },
    "language_info": {
      "name": "python"
    }
  },
  "cells": [
    {
      "cell_type": "markdown",
      "source": [
        "# **Functions : Theory questions**"
      ],
      "metadata": {
        "id": "j2z-RhtuW4ax"
      }
    },
    {
      "cell_type": "markdown",
      "source": [
        "**1. What is the difference between a function and a method in Python?**\n",
        "- A function is a standalone block of reusable code designed to perform a specific task. It can be defined independently and called directly by its name, potentially accepting arguments and returning a value. Functions are not inherently tied to any particular object or class.\n",
        "\n",
        "\n",
        "- A method is a function that belongs to a class and is called on an instance (object) of that class. Methods are designed to operate on the data and state of the object they are associated with. They implicitly receive the object instance as their first argument (conventionally named self).\n"
      ],
      "metadata": {
        "id": "UuAQ3jdvV9ph"
      }
    },
    {
      "cell_type": "code",
      "source": [
        "# Fuction example\n",
        "def action(name):\n",
        "    return name\n",
        "print(action(\"Santosh\"))\n",
        "\n",
        "# Method example\n",
        "import math as m\n",
        "ceil_val = m.ceil(15.5)\n",
        "print( \"Ceiling value is : \", ceil_val)"
      ],
      "metadata": {
        "colab": {
          "base_uri": "https://localhost:8080/"
        },
        "id": "YF-RpZCbYtLI",
        "outputId": "72f8a7c3-5134-4f9e-e183-9be4f9b9673b"
      },
      "execution_count": 2,
      "outputs": [
        {
          "output_type": "stream",
          "name": "stdout",
          "text": [
            "Santosh\n",
            "Ceiling value is :  16\n"
          ]
        }
      ]
    },
    {
      "cell_type": "markdown",
      "source": [
        "**2. Explain the concept of function arguments and parameters in Python.**\n",
        "- Parameters are variables defined in a function declaration. This act as placeholders for the values (arguments) that will be passed to the function.\n",
        "\n",
        "- Arguments are the actual values that you pass to the function when you call it. These values replace the parameters defined in the function."
      ],
      "metadata": {
        "id": "exYUvphdaFix"
      }
    },
    {
      "cell_type": "code",
      "source": [
        "def greet(name, age): # 'name' and 'age' are parameters\n",
        "    print(f\"Hello, {name} is {age} years old.\")\n",
        "\n",
        "greet(\"Santosh\", 40) # \"Santosh\" and 40 are arguments"
      ],
      "metadata": {
        "colab": {
          "base_uri": "https://localhost:8080/"
        },
        "id": "ybbJEI8GbQvS",
        "outputId": "219381c4-f671-4e31-c9ac-90ab38a13829"
      },
      "execution_count": 3,
      "outputs": [
        {
          "output_type": "stream",
          "name": "stdout",
          "text": [
            "Hello, Santosh is 40 years old.\n"
          ]
        }
      ]
    },
    {
      "cell_type": "markdown",
      "source": [
        "**3. What are the different ways to define and call a function in Python?**\n",
        "- 1. Using def keyword (standard function definition)\n",
        "- 2. Using lambda (anonymous functions)\n",
        "- 3. Nested functions (function inside another function)\n",
        "- 4. Function with default arguments\n",
        "- 5. Function with variable-length arguments (*args, **kwargs)"
      ],
      "metadata": {
        "id": "PPP_a-J3cPyK"
      }
    },
    {
      "cell_type": "code",
      "source": [
        "# examples of above ways of defining and calling a function\n",
        "'''\n",
        "1.Using def keyword (standard function definition)'''\n",
        "def greet(name):\n",
        "    return f\"Hello, {name}!\"\n",
        "print(greet('Santosh'))     #calling\n",
        "''' -----------------------------------------------\n",
        "2. Using lambda (anonymous functions)'''\n",
        "square = lambda x: x * x\n",
        "print(square(5))            #calling\n",
        "''' ------------------------------------------------\n",
        "3. Nested functions (function inside another function)'''\n",
        "def outer():\n",
        "    def inner():\n",
        "        return \"I am inner fuction!\"\n",
        "    return inner()\n",
        "print(outer())              #calling\n",
        "''' ------------------------------------------------\n",
        "4. Function with default arguments  '''\n",
        "def greet(name=\"john doe\"):\n",
        "    return f\"Hello, {name}!\"\n",
        "print(greet())        # calling - Uses default\n",
        "print(greet(\"santosh\")) # calling- Overrides default\n",
        "''' -------------------------------------------------\n",
        "5. Function with variable-length arguments (*args, **kwargs) '''\n",
        "def add(*args):\n",
        "    return sum(args)\n",
        "def display_info(**kwargs):\n",
        "    return kwargs\n",
        "# calling\n",
        "print(add(1, 2, 3, 4))\n",
        "print(display_info(name=\"Santosh\", age=40))\n",
        "\n",
        "\n",
        "\n",
        "\n",
        "\n",
        "\n",
        "\n",
        "\n",
        "\n",
        "\n",
        "\n",
        "\n"
      ],
      "metadata": {
        "colab": {
          "base_uri": "https://localhost:8080/"
        },
        "id": "PgXjNdtagBA6",
        "outputId": "0e9f286e-3243-4df7-dd91-100ac177c029"
      },
      "execution_count": 11,
      "outputs": [
        {
          "output_type": "stream",
          "name": "stdout",
          "text": [
            "Hello, Santosh!\n",
            "25\n",
            "I am inner fuction!\n",
            "Hello, john doe!\n",
            "Hello, santosh!\n",
            "10\n",
            "{'name': 'Santosh', 'age': 40}\n"
          ]
        }
      ]
    },
    {
      "cell_type": "markdown",
      "source": [
        "**4. What is the purpose of the `return` statement in a Python function?**\n",
        "- The return statement in Python is used to send a value from a function back to the caller."
      ],
      "metadata": {
        "id": "G7l780YOlSv4"
      }
    },
    {
      "cell_type": "code",
      "source": [
        "def add_numbers(a, b):\n",
        "    sum_res = a + b\n",
        "    return sum_res"
      ],
      "metadata": {
        "id": "Vq4BVnJll5ih"
      },
      "execution_count": 13,
      "outputs": []
    },
    {
      "cell_type": "markdown",
      "source": [
        "**5. What are iterators in Python and how do they differ from iterables?**\n",
        "\n",
        "- **Iterable**\n",
        "\n",
        "An iterable is any Python object that can return its elements one at a time.\n",
        "\n",
        "Examples: list, tuple, string, dictionary, set.\n",
        "\n",
        "To be iterable, an object must implement the __iter__() method.\n",
        "- **Iterator**: An iterator is the object that actually produces the items from an iterable, one at a time.\n",
        "\n",
        "It implements two special methods:\n",
        "__iter__() → returns the iterator object itself.\n",
        "\n",
        "__next__() → returns the next item, and raises StopIteration when no items are left."
      ],
      "metadata": {
        "id": "a2bcorj-mCmx"
      }
    },
    {
      "cell_type": "code",
      "source": [
        "my_list = [1, 2, 3]\n",
        "# Lists are iterable\n",
        "for item in my_list:\n",
        "    print(item)\n",
        "\n",
        "print('-------------------------------------')\n",
        "# Create an iterator from the list\n",
        "my_list = [1, 2, 3]\n",
        "it = iter(my_list)\n",
        "\n",
        "print(next(it))  # 1\n",
        "print(next(it))  # 2\n",
        "print(next(it))  # 3\n",
        "# print(next(it)) → raises StopIteration\n"
      ],
      "metadata": {
        "colab": {
          "base_uri": "https://localhost:8080/"
        },
        "id": "QNTUjSh8nyV4",
        "outputId": "f66b3683-0c3b-41ba-de38-c437d9827278"
      },
      "execution_count": 15,
      "outputs": [
        {
          "output_type": "stream",
          "name": "stdout",
          "text": [
            "1\n",
            "2\n",
            "3\n",
            "-------------------------------------\n",
            "1\n",
            "2\n",
            "3\n"
          ]
        }
      ]
    },
    {
      "cell_type": "markdown",
      "source": [
        "**6. Explain the concept of generators in Python and how they are defined.**\n",
        "- A generator is a special type of iterator in Python.\n",
        "  It allows you to generate values on the fly, instead of storing them all in memory at once. They use the yield keyword instead of return. Every time the generator function is called, execution pauses at yield and resumes from there next time.\n",
        "  \n"
      ],
      "metadata": {
        "id": "xrazaZJLo3XC"
      }
    },
    {
      "cell_type": "code",
      "source": [
        "def count_upto(n):\n",
        "    count = 1\n",
        "    while count <= n:\n",
        "        yield count   # pauses and sends value back\n",
        "        count += 1\n",
        "\n",
        "C = count_upto(3)\n",
        "\n",
        "print(next(C))  # 1\n",
        "print(next(C))  # 2\n",
        "print(next(C))  # 3\n",
        "# next(gen) → raises StopIteration (no more values)\n"
      ],
      "metadata": {
        "colab": {
          "base_uri": "https://localhost:8080/"
        },
        "id": "A_x3vxKZrqED",
        "outputId": "2cb31060-1957-4cf6-f3c5-c03e6db4a49f"
      },
      "execution_count": 18,
      "outputs": [
        {
          "output_type": "stream",
          "name": "stdout",
          "text": [
            "1\n",
            "2\n",
            "3\n"
          ]
        }
      ]
    },
    {
      "cell_type": "markdown",
      "source": [
        "7. What are the advantages of using generators over regular functions?\n",
        "- Generators offer several advantages over regular functions, primarily related to memory efficiency, performance, and handling of sequences.\n",
        "Advantages of Generators:\n",
        "- Memory Efficiency: Generators produce values one at a time on demand (lazy evaluation) using the yield keyword, rather than computing and storing an entire sequence in memory at once. This is crucial when dealing with large datasets or infinite sequences, preventing memory exhaustion.\n",
        "- Performance Improvement: By generating values on the fly, generators can improve performance, especially when only a subset of a large sequence is needed. Computation is only performed when a value is requested.\n",
        "- Handling Infinite Sequences: Generators can represent infinite sequences without running out of memory, as they only generate the next value when explicitly requested.\n",
        "- Cleaner Code for Iteration: Generators provide a more concise and readable way to define iterators, automatically handling the __iter__() and __next__() methods (and StopIteration) that would otherwise need to be implemented manually for a custom iterator class.\n",
        "- Pipelining Operations: Generators can be chained together to create data processing pipelines, where the output of one generator serves as the input for the next, facilitating efficient data transformation and filtering.\n"
      ],
      "metadata": {
        "id": "Q9uY2QuwsVKq"
      }
    },
    {
      "cell_type": "code",
      "source": [
        "# Regular function (stores all numbers in memory)\n",
        "def numbers_list(n):\n",
        "    return [i for i in range(n)]\n",
        "\n",
        "# Generator (produces numbers one by one)\n",
        "def numbers_gen(n):\n",
        "    for i in range(n):\n",
        "        yield i\n",
        "\n",
        "print(numbers_list(1000000))   # Heavy memory usage\n",
        "print(numbers_gen(1000000))    # Light, just an iterator\n"
      ],
      "metadata": {
        "colab": {
          "base_uri": "https://localhost:8080/"
        },
        "id": "XJ1Y38Ultbh5",
        "outputId": "cb797bea-d6ee-417f-bfe7-d51a7205ae08"
      },
      "execution_count": 20,
      "outputs": [
        {
          "output_type": "stream",
          "name": "stdout",
          "text": [
            "<generator object numbers_gen at 0x7ac20b364790>\n"
          ]
        }
      ]
    },
    {
      "cell_type": "markdown",
      "source": [
        "**8. What is a lambda function in Python and when is it typically used?**\n",
        "- A lambda function in Python is a small, anonymous function defined using the lambda keyword. Unlike regular functions defined with def, lambda functions are typically single-expression functions and do not require a formal name.\n",
        "\n"
      ],
      "metadata": {
        "id": "QgIYEB9muaFC"
      }
    },
    {
      "cell_type": "code",
      "source": [
        "# Regular function\n",
        "def square(x):\n",
        "    return x * x\n",
        "\n",
        "# Lambda equivalent\n",
        "square_lambda = lambda x: x * x\n",
        "print(square_lambda(5))  # Output: 25\n"
      ],
      "metadata": {
        "colab": {
          "base_uri": "https://localhost:8080/"
        },
        "id": "QAdKTeaSvMUS",
        "outputId": "13e52b50-f72b-451f-819b-f43482667b5e"
      },
      "execution_count": 21,
      "outputs": [
        {
          "output_type": "stream",
          "name": "stdout",
          "text": [
            "25\n"
          ]
        }
      ]
    },
    {
      "cell_type": "markdown",
      "source": [
        "**9. Explain the purpose and usage of the `map()` function in Python.**\n",
        "- The map() function applies a given function to each item of an iterable (like a list, tuple, or string) and returns a map object (iterator).\n",
        "\n",
        "  It’s a cleaner alternative to writing for loops when you just want to transform data.\n"
      ],
      "metadata": {
        "id": "RX1PPJfSvXvh"
      }
    },
    {
      "cell_type": "code",
      "source": [
        "# using map function\n",
        "a = [1, 2, 3]\n",
        "b = [4, 5, 6]\n",
        "\n",
        "# Add elements from both lists\n",
        "result = map(lambda x, y: x + y, a, b)\n",
        "print(list(result))  # [5, 7, 9]\n"
      ],
      "metadata": {
        "colab": {
          "base_uri": "https://localhost:8080/"
        },
        "id": "KcZFsyMhwA3B",
        "outputId": "415ad9fd-f7da-434a-fcde-4867b7037002"
      },
      "execution_count": 22,
      "outputs": [
        {
          "output_type": "stream",
          "name": "stdout",
          "text": [
            "[5, 7, 9]\n"
          ]
        }
      ]
    },
    {
      "cell_type": "markdown",
      "source": [
        "**10. What is the difference between `map()`, `reduce()`, and `filter()` functions in Python?**\n",
        "- The map(), filter(), and reduce() functions in Python are all higher-order functions that operate on iterables, but they serve distinct purposes:\n",
        "1. map(): Applies a given function to each item in an iterable and returns a new iterable (a map object) containing the results. It transforms elements.\n",
        "2. filter(): Constructs an iterator from elements of an iterable for which a function returns true. It selects elements based on a condition.\n",
        "3. reduce(): Applies a function of two arguments cumulatively to the items of an iterable, from left to right, so as to reduce the iterable to a single value. It combines elements.\n",
        "\n"
      ],
      "metadata": {
        "id": "mj9rNtZFwZTj"
      }
    },
    {
      "cell_type": "code",
      "source": [
        "# map\n",
        "numbers = [1, 2, 3, 4]\n",
        "squared_numbers = map(lambda x: x * x, numbers)\n",
        "print(list(squared_numbers))"
      ],
      "metadata": {
        "colab": {
          "base_uri": "https://localhost:8080/"
        },
        "id": "WmLqWMatxQng",
        "outputId": "b6d4a8a9-ea60-45dc-fab5-343bd79effd8"
      },
      "execution_count": 23,
      "outputs": [
        {
          "output_type": "stream",
          "name": "stdout",
          "text": [
            "[1, 4, 9, 16]\n"
          ]
        }
      ]
    },
    {
      "cell_type": "code",
      "source": [
        "# filter\n",
        "numbers = [1, 2, 3, 4, 5, 6]\n",
        "even_numbers = filter(lambda x: x % 2 == 0, numbers)\n",
        "print(list(even_numbers))"
      ],
      "metadata": {
        "colab": {
          "base_uri": "https://localhost:8080/"
        },
        "id": "bMIhfwMJxaYJ",
        "outputId": "6bbe2e1d-ce1c-45e9-c499-3715873acf10"
      },
      "execution_count": 24,
      "outputs": [
        {
          "output_type": "stream",
          "name": "stdout",
          "text": [
            "[2, 4, 6]\n"
          ]
        }
      ]
    },
    {
      "cell_type": "code",
      "source": [
        "from functools import reduce\n",
        "numbers = [1, 2, 3, 4]\n",
        "sum_of_numbers = reduce(lambda x, y: x + y, numbers)\n",
        "print(sum_of_numbers)"
      ],
      "metadata": {
        "colab": {
          "base_uri": "https://localhost:8080/"
        },
        "id": "qnTndyPTxfvJ",
        "outputId": "97a6930b-24fd-49fc-d30b-8eb8a1fca8af"
      },
      "execution_count": 25,
      "outputs": [
        {
          "output_type": "stream",
          "name": "stdout",
          "text": [
            "10\n"
          ]
        }
      ]
    },
    {
      "cell_type": "markdown",
      "source": [
        "**11. Using pen & Paper write the internal mechanism for sum operation using reduce function on this given list:[47,11,42,13]**\n"
      ],
      "metadata": {
        "id": "BG_fzET7x0Gp"
      }
    },
    {
      "cell_type": "markdown",
      "source": [
        "![reduce.jpg](data:image/jpeg;base64,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)"
      ],
      "metadata": {
        "id": "jL60fTmXzaIL"
      }
    },
    {
      "cell_type": "markdown",
      "source": [
        "# **Practical Questions**"
      ],
      "metadata": {
        "id": "RCJO1yJa51My"
      }
    },
    {
      "cell_type": "code",
      "source": [
        "#1 Write a Python function that takes a list of numbers as input and returns the sum of all even numbers in the list.\n",
        "\n",
        "def SumEven(numbers):\n",
        "    total = 0\n",
        "    for n in numbers:\n",
        "        if n % 2 == 0:\n",
        "            total += n\n",
        "    return total\n",
        "\n",
        "list = [1, 2, 3, 4, 5, 6]\n",
        "print(\"Sum of even numbers:\", SumEven(list))"
      ],
      "metadata": {
        "colab": {
          "base_uri": "https://localhost:8080/"
        },
        "id": "nBZI6Qor6Abi",
        "outputId": "3ec3e87c-6908-41cb-8cb3-3992440a1a6c"
      },
      "execution_count": 30,
      "outputs": [
        {
          "output_type": "stream",
          "name": "stdout",
          "text": [
            "Sum of even numbers: 12\n"
          ]
        }
      ]
    },
    {
      "cell_type": "code",
      "source": [
        "#2. Create a Python function that accepts a string and returns the reverse of that string.\n",
        "def reverse_str(s):\n",
        "    return s[::-1]\n",
        "\n",
        "txt = \"I am a string\"\n",
        "print(\"Reversed string:\", reverse_str(txt))\n"
      ],
      "metadata": {
        "colab": {
          "base_uri": "https://localhost:8080/"
        },
        "id": "1zeTak2Y74my",
        "outputId": "165b1e19-5479-40e9-aaba-a9497865f794"
      },
      "execution_count": 31,
      "outputs": [
        {
          "output_type": "stream",
          "name": "stdout",
          "text": [
            "Reversed string: gnirts a ma I\n"
          ]
        }
      ]
    },
    {
      "cell_type": "code",
      "source": [
        "#3. Implement a Python function that takes a list of integers and returns a new list containing the squares of each number.\n",
        "def Squared_list(numbers):\n",
        "    squared_numbers = []\n",
        "    for i in numbers:\n",
        "        squared_numbers.append(i ** 2)\n",
        "    return squared_numbers\n",
        "\n",
        "integer_list = [10, 22, 3, 14, 5]\n",
        "print(\"Squared list:\", Squared_list(integer_list))\n"
      ],
      "metadata": {
        "colab": {
          "base_uri": "https://localhost:8080/"
        },
        "id": "KWkSrJRY8WyK",
        "outputId": "d5de4cef-df2b-4783-8d32-4d9675d20632"
      },
      "execution_count": 34,
      "outputs": [
        {
          "output_type": "stream",
          "name": "stdout",
          "text": [
            "Squared list: [100, 484, 9, 196, 25]\n"
          ]
        }
      ]
    },
    {
      "cell_type": "code",
      "source": [
        "#4. Write a Python function that checks if a given number is prime or not from 1 to 200.\n",
        "def is_prime(n):\n",
        "    if n < 2 or n > 200:\n",
        "        return False\n",
        "    for i in range(2, int(n**0.5) + 1):\n",
        "        if n % i == 0:\n",
        "            return False\n",
        "    return True\n",
        "\n",
        "num = int(input(\"enter a number\"))\n",
        "if is_prime(num):\n",
        "    print(num, \"is prime\")\n",
        "else:\n",
        "    print(num, \"not prime\")\n",
        "\n"
      ],
      "metadata": {
        "colab": {
          "base_uri": "https://localhost:8080/"
        },
        "id": "xlan98si9YbT",
        "outputId": "12c6dd3e-fea1-491c-8b04-f0b9c26b664b"
      },
      "execution_count": 49,
      "outputs": [
        {
          "output_type": "stream",
          "name": "stdout",
          "text": [
            "enter a number7\n",
            "7 is prime\n"
          ]
        }
      ]
    },
    {
      "cell_type": "code",
      "source": [
        "#5. Create an iterator class in Python that generates the Fibonacci sequence up to a specified number of terms.\n",
        "class Fibonacci:\n",
        "    def __init__(self, n_terms):\n",
        "        self.n_terms = n_terms\n",
        "        self.index = 0\n",
        "        self.a, self.b = 0, 1  # First two Fibonacci numbers\n",
        "\n",
        "    def __iter__(self):\n",
        "        return self\n",
        "\n",
        "    def __next__(self):\n",
        "        if self.index >= self.n_terms:\n",
        "            raise StopIteration  # End of iteration\n",
        "        if self.index == 0:\n",
        "            self.index += 1\n",
        "            return self.a\n",
        "        elif self.index == 1:\n",
        "            self.index += 1\n",
        "            return self.b\n",
        "        else:\n",
        "            self.a, self.b = self.b, self.a + self.b\n",
        "            self.index += 1\n",
        "            return self.b\n",
        "\n",
        "# ----------------------------\n",
        "fib_seq = Fibonacci(10)  # Gets 1st 10 Fibonacci nums\n",
        "for num in fib_seq:\n",
        "    print(num, end=\", \")"
      ],
      "metadata": {
        "colab": {
          "base_uri": "https://localhost:8080/"
        },
        "id": "doWfihpvBD2q",
        "outputId": "17ae8f8f-a07d-4d9a-8c86-5391ee3e9f72"
      },
      "execution_count": 51,
      "outputs": [
        {
          "output_type": "stream",
          "name": "stdout",
          "text": [
            "0, 1, 1, 2, 3, 5, 8, 13, 21, 34, "
          ]
        }
      ]
    },
    {
      "cell_type": "code",
      "source": [
        "#6 Write a generator function in Python that yields the powers of 2 up to a given exponent.\n",
        "def powers_of_two(exponent):\n",
        "    for i in range(exponent + 1):\n",
        "        yield 2 ** i\n",
        "\n",
        "# Example usage:\n",
        "for value in powers_of_two(4): #upto 4rth exponent\n",
        "    print(value, end=\" \")"
      ],
      "metadata": {
        "colab": {
          "base_uri": "https://localhost:8080/"
        },
        "id": "_LfN3hg0CSfA",
        "outputId": "be0d0b66-3258-4a9f-b01e-9b7342364cb9"
      },
      "execution_count": 52,
      "outputs": [
        {
          "output_type": "stream",
          "name": "stdout",
          "text": [
            "1 2 4 8 16 "
          ]
        }
      ]
    },
    {
      "cell_type": "code",
      "source": [
        "#7. Implement a generator function that reads a file line by line and yields each line as a string.\n",
        "\n",
        "def read_file_line_by_line(file_path):\n",
        "    with open(file_path, 'r') as file:\n",
        "        for line in file:\n",
        "            yield line.rstrip('\\n')  # Remove newline character\n",
        "\n",
        "# Example usage:\n",
        "file_path = \"C:\\Users\\Admin\\Documents\\text.txt\"  # Replace with your file path\n",
        "for line in read_file_line_by_line(file_path):\n",
        "    print(line)\n"
      ],
      "metadata": {
        "colab": {
          "base_uri": "https://localhost:8080/",
          "height": 315
        },
        "id": "oHH26TVFFuEW",
        "outputId": "292e746e-052d-424f-9ac6-7b6de44b6e30"
      },
      "execution_count": 60,
      "outputs": [
        {
          "output_type": "error",
          "ename": "FileNotFoundError",
          "evalue": "[Errno 2] No such file or directory: 'C:\\\\Users\\\\Admin\\\\Documents\\\\text.txt'",
          "traceback": [
            "\u001b[0;31m---------------------------------------------------------------------------\u001b[0m",
            "\u001b[0;31mFileNotFoundError\u001b[0m                         Traceback (most recent call last)",
            "\u001b[0;32m/tmp/ipython-input-1527169674.py\u001b[0m in \u001b[0;36m<cell line: 0>\u001b[0;34m()\u001b[0m\n\u001b[1;32m     15\u001b[0m \u001b[0;31m# Example usage:\u001b[0m\u001b[0;34m\u001b[0m\u001b[0;34m\u001b[0m\u001b[0m\n\u001b[1;32m     16\u001b[0m \u001b[0mfile_path\u001b[0m \u001b[0;34m=\u001b[0m \u001b[0;34mr\"C:\\Users\\Admin\\Documents\\text.txt\"\u001b[0m  \u001b[0;31m# Replace with your file path\u001b[0m\u001b[0;34m\u001b[0m\u001b[0;34m\u001b[0m\u001b[0m\n\u001b[0;32m---> 17\u001b[0;31m \u001b[0;32mfor\u001b[0m \u001b[0mline\u001b[0m \u001b[0;32min\u001b[0m \u001b[0mread_file_line_by_line\u001b[0m\u001b[0;34m(\u001b[0m\u001b[0mfile_path\u001b[0m\u001b[0;34m)\u001b[0m\u001b[0;34m:\u001b[0m\u001b[0;34m\u001b[0m\u001b[0;34m\u001b[0m\u001b[0m\n\u001b[0m\u001b[1;32m     18\u001b[0m     \u001b[0mprint\u001b[0m\u001b[0;34m(\u001b[0m\u001b[0mline\u001b[0m\u001b[0;34m)\u001b[0m\u001b[0;34m\u001b[0m\u001b[0;34m\u001b[0m\u001b[0m\n",
            "\u001b[0;32m/tmp/ipython-input-1527169674.py\u001b[0m in \u001b[0;36mread_file_line_by_line\u001b[0;34m(file_path)\u001b[0m\n\u001b[1;32m      9\u001b[0m     \u001b[0mstr\u001b[0m\u001b[0;34m:\u001b[0m \u001b[0mNext\u001b[0m \u001b[0mline\u001b[0m \u001b[0;32mfrom\u001b[0m \u001b[0mthe\u001b[0m \u001b[0mfile\u001b[0m\u001b[0;34m.\u001b[0m\u001b[0;34m\u001b[0m\u001b[0;34m\u001b[0m\u001b[0m\n\u001b[1;32m     10\u001b[0m     \"\"\"\n\u001b[0;32m---> 11\u001b[0;31m     \u001b[0;32mwith\u001b[0m \u001b[0mopen\u001b[0m\u001b[0;34m(\u001b[0m\u001b[0mfile_path\u001b[0m\u001b[0;34m,\u001b[0m \u001b[0;34m'r'\u001b[0m\u001b[0;34m)\u001b[0m \u001b[0;32mas\u001b[0m \u001b[0mfile\u001b[0m\u001b[0;34m:\u001b[0m\u001b[0;34m\u001b[0m\u001b[0;34m\u001b[0m\u001b[0m\n\u001b[0m\u001b[1;32m     12\u001b[0m         \u001b[0;32mfor\u001b[0m \u001b[0mline\u001b[0m \u001b[0;32min\u001b[0m \u001b[0mfile\u001b[0m\u001b[0;34m:\u001b[0m\u001b[0;34m\u001b[0m\u001b[0;34m\u001b[0m\u001b[0m\n\u001b[1;32m     13\u001b[0m             \u001b[0;32myield\u001b[0m \u001b[0mline\u001b[0m\u001b[0;34m.\u001b[0m\u001b[0mrstrip\u001b[0m\u001b[0;34m(\u001b[0m\u001b[0;34m'\\n'\u001b[0m\u001b[0;34m)\u001b[0m  \u001b[0;31m# Remove newline character\u001b[0m\u001b[0;34m\u001b[0m\u001b[0;34m\u001b[0m\u001b[0m\n",
            "\u001b[0;31mFileNotFoundError\u001b[0m: [Errno 2] No such file or directory: 'C:\\\\Users\\\\Admin\\\\Documents\\\\text.txt'"
          ]
        }
      ]
    },
    {
      "cell_type": "code",
      "source": [
        "# Use a lambda function in Python to sort a list of tuples based on the second element of each tuple.\n",
        "list_of_tuples = [(8, 5), (1, 5), (7, 8), (0, 1)]\n",
        "\n",
        "sorted_data = sorted(list_of_tuples, key=lambda x: x[1])\n",
        "\n",
        "print(sorted_data)"
      ],
      "metadata": {
        "colab": {
          "base_uri": "https://localhost:8080/"
        },
        "id": "0e4low6yHOU_",
        "outputId": "48822cce-08ce-42da-9b3b-21076b638d0d"
      },
      "execution_count": 62,
      "outputs": [
        {
          "output_type": "stream",
          "name": "stdout",
          "text": [
            "[(0, 1), (8, 5), (1, 5), (7, 8)]\n"
          ]
        }
      ]
    },
    {
      "cell_type": "code",
      "source": [
        "#9. Write a Python program that uses `map()` to convert a list of temperatures from Celsius to Fahrenheit.\n",
        "celsius_temps = [-4, 24, 37, 100]\n",
        "#formula: F = (C * 9/5) + 32\n",
        "fahrenheit_temps = list(map(lambda c: (c * 9/5) + 32, celsius_temps))\n",
        "\n",
        "print(\"Celsius:\", celsius_temps)\n",
        "print(\"Fahrenheit:\", fahrenheit_temps)"
      ],
      "metadata": {
        "id": "7a1NDZ0cH_cb"
      },
      "execution_count": null,
      "outputs": []
    },
    {
      "cell_type": "code",
      "source": [
        "#10. Create a Python program that uses `filter()` to remove all the vowels from a given string.\n",
        "# Function to check if a character is not a vowel\n",
        "def if_vowel(char):\n",
        "    return char.lower() not in 'aeiou'\n",
        "\n",
        "text = \"Happy birthday!\" # Input string\n",
        "result = ''.join(filter(if_vowel, text)) # Use filter to remove vowels\n",
        "\n",
        "print(\"Original string:\", text)\n",
        "print(\"String without vowels:\", result)\n"
      ],
      "metadata": {
        "colab": {
          "base_uri": "https://localhost:8080/"
        },
        "id": "Cxmh1ZP1IbYX",
        "outputId": "674e6d79-7f15-407f-b905-33daf5c4e8d7"
      },
      "execution_count": 63,
      "outputs": [
        {
          "output_type": "stream",
          "name": "stdout",
          "text": [
            "Original string: Happy birthday!\n",
            "String without vowels: Hppy brthdy!\n"
          ]
        }
      ]
    },
    {
      "cell_type": "code",
      "source": [
        "#11\n",
        "'''Imagine an accounting routine used in a book shop. It works on a list with sublists, which look like this:\n",
        "Write a Python program, which returns a list with 2-tuples. Each tuple consists of the order number and the\n",
        "product of the price per item and the quantity. The product should be increased by 10,- € if the value of the\n",
        "order is smaller than 100,00 €.\n",
        "Write a Python program using lambda and map.'''\n",
        "\n",
        "\n",
        "# Sample data: [Order Number, Book Title, Quantity, Price per item]\n",
        "orders = [\n",
        "    [34587, \"Learning Python, Mark Lutz\", 4, 40.95],\n",
        "    [98762, \"Programming Python, Mark Lutz\", 5, 56.80],\n",
        "    [77226, \"Head First Python, Paul Barry\", 3, 32.95],\n",
        "    [88112, \"Einfuhrung in Python3, Bernd Klein\", 3, 24.99]\n",
        "]\n",
        "\n",
        "# Lambda function to calculate adjusted total\n",
        "adjust_total = lambda order: (\n",
        "    order[0],  # Order number\n",
        "    order[2] * order[3] + 10 if order[2] * order[3] < 100 else order[2] * order[3]\n",
        ")\n",
        "\n",
        "# Use map to apply the lambda to each order\n",
        "result = list(map(adjust_total, orders))\n",
        "\n",
        "print(result)\n"
      ],
      "metadata": {
        "colab": {
          "base_uri": "https://localhost:8080/",
          "height": 211
        },
        "id": "pBz7UojfJrHI",
        "outputId": "b140c032-5951-4f2c-cd8f-8fdfe05c331b"
      },
      "execution_count": 65,
      "outputs": [
        {
          "output_type": "error",
          "ename": "TypeError",
          "evalue": "'list' object is not callable",
          "traceback": [
            "\u001b[0;31m---------------------------------------------------------------------------\u001b[0m",
            "\u001b[0;31mTypeError\u001b[0m                                 Traceback (most recent call last)",
            "\u001b[0;32m/tmp/ipython-input-3177217253.py\u001b[0m in \u001b[0;36m<cell line: 0>\u001b[0;34m()\u001b[0m\n\u001b[1;32m     22\u001b[0m \u001b[0;34m\u001b[0m\u001b[0m\n\u001b[1;32m     23\u001b[0m \u001b[0;31m# Use map to apply the lambda to each order\u001b[0m\u001b[0;34m\u001b[0m\u001b[0;34m\u001b[0m\u001b[0m\n\u001b[0;32m---> 24\u001b[0;31m \u001b[0mresult\u001b[0m \u001b[0;34m=\u001b[0m \u001b[0mlist\u001b[0m\u001b[0;34m(\u001b[0m\u001b[0mmap\u001b[0m\u001b[0;34m(\u001b[0m\u001b[0madjust_total\u001b[0m\u001b[0;34m,\u001b[0m \u001b[0morders\u001b[0m\u001b[0;34m)\u001b[0m\u001b[0;34m)\u001b[0m\u001b[0;34m\u001b[0m\u001b[0;34m\u001b[0m\u001b[0m\n\u001b[0m\u001b[1;32m     25\u001b[0m \u001b[0;34m\u001b[0m\u001b[0m\n\u001b[1;32m     26\u001b[0m \u001b[0mprint\u001b[0m\u001b[0;34m(\u001b[0m\u001b[0mresult\u001b[0m\u001b[0;34m)\u001b[0m\u001b[0;34m\u001b[0m\u001b[0;34m\u001b[0m\u001b[0m\n",
            "\u001b[0;31mTypeError\u001b[0m: 'list' object is not callable"
          ]
        }
      ]
    }
  ]
}